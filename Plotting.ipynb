{
 "cells": [
  {
   "cell_type": "code",
   "execution_count": null,
   "id": "3c9f7f0a",
   "metadata": {},
   "outputs": [],
   "source": [
    "!pip install scipy"
   ]
  },
  {
   "cell_type": "code",
   "execution_count": 78,
   "id": "dd274482",
   "metadata": {},
   "outputs": [],
   "source": [
    "import pandas as pd\n",
    "import numpy as np\n",
    "import plotly\n",
    "import plotly.graph_objs as go\n",
    "from scipy import stats\n",
    "import plotly.express as px"
   ]
  },
  {
   "cell_type": "code",
   "execution_count": 73,
   "id": "c750db77",
   "metadata": {},
   "outputs": [],
   "source": [
    "np.random.seed(234)\n",
    "seeds = np.random.randint(1, 999, 20)"
   ]
  },
  {
   "cell_type": "code",
   "execution_count": 97,
   "id": "00ef6f05",
   "metadata": {},
   "outputs": [
    {
     "data": {
      "text/plain": [
       "'plot.html'"
      ]
     },
     "execution_count": 97,
     "metadata": {},
     "output_type": "execute_result"
    }
   ],
   "source": [
    "data=None\n",
    "for seed in seeds:\n",
    "    with open(f\"results/Thompson_{seed}.npy\", 'rb') as f:\n",
    "        arr = np.load(f).reshape(1, -1)\n",
    "        data = np.append(data, arr, axis=0) if data is not None else arr\n",
    "data = pd.DataFrame(data).T\n",
    "regret = data.expanding().mean()\n",
    "regret.index = regret.index * 3\n",
    "\n",
    "N = regret.shape[1]\n",
    "sqrtN = np.sqrt(N)\n",
    "D = stats.t.ppf(.975, df=N-1)\n",
    "regret_stats = regret.agg(['mean', 'std'], axis=1)\n",
    "regret_stats['UB'] = regret_stats.eval('mean + @D * std / @sqrtN')\n",
    "regret_stats['LB'] = regret_stats.eval('mean - @D * std / @sqrtN')\n",
    "\n",
    "fig = go.Figure([\n",
    "    go.Scatter(\n",
    "        name='Thompson Regret',\n",
    "        x=regret_stats.index,\n",
    "        y=regret_stats['mean'],\n",
    "        mode='lines',\n",
    "        line=dict(color=px.colors.DEFAULT_PLOTLY_COLORS[2]),\n",
    "    ),\n",
    "    go.Scatter(\n",
    "        name='Upper Bound',\n",
    "        x=regret_stats.index,\n",
    "        y=regret_stats.UB,\n",
    "        mode='lines',\n",
    "        #marker=dict(color=\"#444\"),\n",
    "        line=dict(width=0),\n",
    "        showlegend=False\n",
    "    ),\n",
    "    go.Scatter(\n",
    "        name='Lower Bound',\n",
    "        x=regret_stats.index,\n",
    "        y=regret_stats.LB,\n",
    "        #marker=dict(color=\"#444\"),\n",
    "        line=dict(width=0),\n",
    "        mode='lines',\n",
    "        fillcolor=px.colors.DEFAULT_PLOTLY_COLORS[2].replace('b', 'ba').replace(')', ', .3)'),\n",
    "        fill='tonexty',\n",
    "        showlegend=False\n",
    "    )\n",
    "])\n",
    "fig = fig.update_layout(width=1000, height=700, title='Expected Cumulative Regret', \n",
    "                       yaxis={'title': 'Expected Regret', 'range': (0, 0.6)}, xaxis={'title': 'Sample'})\n",
    "plotly.offline.plot(fig, filename = 'plot.html', auto_open=False)"
   ]
  },
  {
   "cell_type": "code",
   "execution_count": 99,
   "id": "fb13b940",
   "metadata": {},
   "outputs": [
    {
     "data": {
      "text/plain": [
       "'plot.html'"
      ]
     },
     "execution_count": 99,
     "metadata": {},
     "output_type": "execute_result"
    }
   ],
   "source": [
    "fig = go.Figure()\n",
    "\n",
    "for i, (k, kk) in enumerate(list(zip(['UCB', 'Neural', 'Thompson'], ['LinUCB', 'NeuralLinUCB', 'Thompson']))):\n",
    "    data=None\n",
    "    for seed in seeds:\n",
    "        with open(f\"results/{k}_{seed}.npy\", 'rb') as f:\n",
    "            arr = np.load(f).reshape(1, -1)\n",
    "            data = np.append(data, arr, axis=0) if data is not None else arr\n",
    "    data = pd.DataFrame(data).T\n",
    "    regret = data.expanding().mean()\n",
    "    regret.index = regret.index * 3\n",
    "\n",
    "    N = regret.shape[1]\n",
    "    sqrtN = np.sqrt(N)\n",
    "    D = stats.t.ppf(.975, df=N-1)\n",
    "    regret_stats = regret.agg(['mean', 'std'], axis=1)\n",
    "    regret_stats['UB'] = regret_stats.eval('mean + @D * std / @sqrtN')\n",
    "    regret_stats['LB'] = regret_stats.eval('mean - @D * std / @sqrtN')\n",
    "\n",
    "\n",
    "\n",
    "    fig = fig.add_trace(go.Scatter(\n",
    "            name=f'{kk} Regret',\n",
    "            x=regret_stats.index,\n",
    "            y=regret_stats['mean'],\n",
    "            mode='lines',\n",
    "            line=dict(color=px.colors.DEFAULT_PLOTLY_COLORS[i]),\n",
    "        ))\n",
    "    fig = fig.add_trace(go.Scatter(\n",
    "            name='Upper Bound',\n",
    "            x=regret_stats.index,\n",
    "            y=regret_stats.UB,\n",
    "            mode='lines',\n",
    "            #marker=dict(color=\"#444\"),\n",
    "            line=dict(width=0),\n",
    "            showlegend=False\n",
    "        ))\n",
    "    fig = fig.add_trace(go.Scatter(\n",
    "            name='Lower Bound',\n",
    "            x=regret_stats.index,\n",
    "            y=regret_stats.LB,\n",
    "            #marker=dict(color=\"#444\"),\n",
    "            line=dict(width=0),\n",
    "            mode='lines',\n",
    "            fillcolor=px.colors.DEFAULT_PLOTLY_COLORS[i].replace('b', 'ba').replace(')', ', .3)'),\n",
    "            fill='tonexty',\n",
    "            showlegend=False\n",
    "        ))\n",
    "\n",
    "fig = fig.update_layout(width=1000, height=700, title='Expected Cumulative Regret', \n",
    "                           yaxis={'title': 'Expected Regret', 'range': (0, 0.6)}, xaxis={'title': 'Sample'})\n",
    "\n",
    "plotly.offline.plot(fig, filename = 'plot.html', auto_open=False)"
   ]
  },
  {
   "cell_type": "code",
   "execution_count": null,
   "id": "990424e3",
   "metadata": {},
   "outputs": [],
   "source": []
  }
 ],
 "metadata": {
  "kernelspec": {
   "display_name": "Python 3 (ipykernel)",
   "language": "python",
   "name": "python3"
  },
  "language_info": {
   "codemirror_mode": {
    "name": "ipython",
    "version": 3
   },
   "file_extension": ".py",
   "mimetype": "text/x-python",
   "name": "python",
   "nbconvert_exporter": "python",
   "pygments_lexer": "ipython3",
   "version": "3.10.9"
  }
 },
 "nbformat": 4,
 "nbformat_minor": 5
}
